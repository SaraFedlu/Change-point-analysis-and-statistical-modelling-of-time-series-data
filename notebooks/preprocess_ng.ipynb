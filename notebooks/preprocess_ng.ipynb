{
 "cells": [
  {
   "cell_type": "code",
   "execution_count": 1,
   "metadata": {},
   "outputs": [],
   "source": [
    "import pandas as pd"
   ]
  },
  {
   "cell_type": "code",
   "execution_count": 2,
   "metadata": {},
   "outputs": [],
   "source": [
    "df = pd.read_csv(\"../data/natural_gas_data.csv\", parse_dates=[\"Date\"])"
   ]
  },
  {
   "cell_type": "code",
   "execution_count": 3,
   "metadata": {},
   "outputs": [
    {
     "data": {
      "text/html": [
       "<div>\n",
       "<style scoped>\n",
       "    .dataframe tbody tr th:only-of-type {\n",
       "        vertical-align: middle;\n",
       "    }\n",
       "\n",
       "    .dataframe tbody tr th {\n",
       "        vertical-align: top;\n",
       "    }\n",
       "\n",
       "    .dataframe thead th {\n",
       "        text-align: right;\n",
       "    }\n",
       "</style>\n",
       "<table border=\"1\" class=\"dataframe\">\n",
       "  <thead>\n",
       "    <tr style=\"text-align: right;\">\n",
       "      <th></th>\n",
       "      <th>Date</th>\n",
       "      <th>Price_EIA</th>\n",
       "      <th>Price_Yahoo</th>\n",
       "      <th>GDP</th>\n",
       "      <th>Inflation</th>\n",
       "      <th>realtime_start</th>\n",
       "      <th>realtime_end</th>\n",
       "      <th>Interest Rate</th>\n",
       "    </tr>\n",
       "  </thead>\n",
       "  <tbody>\n",
       "    <tr>\n",
       "      <th>0</th>\n",
       "      <td>2000-08-30</td>\n",
       "      <td>NaN</td>\n",
       "      <td>4.805</td>\n",
       "      <td>NaN</td>\n",
       "      <td>NaN</td>\n",
       "      <td>NaN</td>\n",
       "      <td>NaN</td>\n",
       "      <td>NaN</td>\n",
       "    </tr>\n",
       "    <tr>\n",
       "      <th>1</th>\n",
       "      <td>2000-08-31</td>\n",
       "      <td>NaN</td>\n",
       "      <td>4.780</td>\n",
       "      <td>NaN</td>\n",
       "      <td>NaN</td>\n",
       "      <td>NaN</td>\n",
       "      <td>NaN</td>\n",
       "      <td>NaN</td>\n",
       "    </tr>\n",
       "    <tr>\n",
       "      <th>2</th>\n",
       "      <td>2000-09-01</td>\n",
       "      <td>NaN</td>\n",
       "      <td>4.835</td>\n",
       "      <td>NaN</td>\n",
       "      <td>NaN</td>\n",
       "      <td>2025-02-03</td>\n",
       "      <td>2025-02-03</td>\n",
       "      <td>6.52</td>\n",
       "    </tr>\n",
       "    <tr>\n",
       "      <th>3</th>\n",
       "      <td>2000-09-05</td>\n",
       "      <td>NaN</td>\n",
       "      <td>4.960</td>\n",
       "      <td>NaN</td>\n",
       "      <td>NaN</td>\n",
       "      <td>NaN</td>\n",
       "      <td>NaN</td>\n",
       "      <td>NaN</td>\n",
       "    </tr>\n",
       "    <tr>\n",
       "      <th>4</th>\n",
       "      <td>2000-09-06</td>\n",
       "      <td>NaN</td>\n",
       "      <td>5.065</td>\n",
       "      <td>NaN</td>\n",
       "      <td>NaN</td>\n",
       "      <td>NaN</td>\n",
       "      <td>NaN</td>\n",
       "      <td>NaN</td>\n",
       "    </tr>\n",
       "  </tbody>\n",
       "</table>\n",
       "</div>"
      ],
      "text/plain": [
       "        Date  Price_EIA  Price_Yahoo  GDP  Inflation realtime_start  \\\n",
       "0 2000-08-30        NaN        4.805  NaN        NaN            NaN   \n",
       "1 2000-08-31        NaN        4.780  NaN        NaN            NaN   \n",
       "2 2000-09-01        NaN        4.835  NaN        NaN     2025-02-03   \n",
       "3 2000-09-05        NaN        4.960  NaN        NaN            NaN   \n",
       "4 2000-09-06        NaN        5.065  NaN        NaN            NaN   \n",
       "\n",
       "  realtime_end  Interest Rate  \n",
       "0          NaN            NaN  \n",
       "1          NaN            NaN  \n",
       "2   2025-02-03           6.52  \n",
       "3          NaN            NaN  \n",
       "4          NaN            NaN  "
      ]
     },
     "execution_count": 3,
     "metadata": {},
     "output_type": "execute_result"
    }
   ],
   "source": [
    "df.head()"
   ]
  },
  {
   "cell_type": "code",
   "execution_count": 4,
   "metadata": {},
   "outputs": [
    {
     "name": "stdout",
     "output_type": "stream",
     "text": [
      "<class 'pandas.core.frame.DataFrame'>\n",
      "RangeIndex: 6180 entries, 0 to 6179\n",
      "Data columns (total 8 columns):\n",
      " #   Column          Non-Null Count  Dtype         \n",
      "---  ------          --------------  -----         \n",
      " 0   Date            6180 non-null   datetime64[ns]\n",
      " 1   Price_EIA       5002 non-null   float64       \n",
      " 2   Price_Yahoo     6112 non-null   float64       \n",
      " 3   GDP             4 non-null      float64       \n",
      " 4   Inflation       4 non-null      float64       \n",
      " 5   realtime_start  193 non-null    object        \n",
      " 6   realtime_end    193 non-null    object        \n",
      " 7   Interest Rate   193 non-null    float64       \n",
      "dtypes: datetime64[ns](1), float64(5), object(2)\n",
      "memory usage: 386.4+ KB\n"
     ]
    }
   ],
   "source": [
    "df.info()"
   ]
  },
  {
   "cell_type": "code",
   "execution_count": 5,
   "metadata": {},
   "outputs": [
    {
     "data": {
      "text/html": [
       "<div>\n",
       "<style scoped>\n",
       "    .dataframe tbody tr th:only-of-type {\n",
       "        vertical-align: middle;\n",
       "    }\n",
       "\n",
       "    .dataframe tbody tr th {\n",
       "        vertical-align: top;\n",
       "    }\n",
       "\n",
       "    .dataframe thead th {\n",
       "        text-align: right;\n",
       "    }\n",
       "</style>\n",
       "<table border=\"1\" class=\"dataframe\">\n",
       "  <thead>\n",
       "    <tr style=\"text-align: right;\">\n",
       "      <th></th>\n",
       "      <th>Date</th>\n",
       "      <th>Price_EIA</th>\n",
       "      <th>Price_Yahoo</th>\n",
       "      <th>GDP</th>\n",
       "      <th>Inflation</th>\n",
       "      <th>Interest Rate</th>\n",
       "    </tr>\n",
       "  </thead>\n",
       "  <tbody>\n",
       "    <tr>\n",
       "      <th>count</th>\n",
       "      <td>6180</td>\n",
       "      <td>5002.000000</td>\n",
       "      <td>6112.000000</td>\n",
       "      <td>4.000000e+00</td>\n",
       "      <td>4.000000</td>\n",
       "      <td>193.000000</td>\n",
       "    </tr>\n",
       "    <tr>\n",
       "      <th>mean</th>\n",
       "      <td>2012-12-08 09:24:34.951456256</td>\n",
       "      <td>4.215598</td>\n",
       "      <td>4.428022</td>\n",
       "      <td>7.616519e+11</td>\n",
       "      <td>4.029406</td>\n",
       "      <td>1.791606</td>\n",
       "    </tr>\n",
       "    <tr>\n",
       "      <th>min</th>\n",
       "      <td>2000-08-30 00:00:00</td>\n",
       "      <td>1.210000</td>\n",
       "      <td>1.482000</td>\n",
       "      <td>6.943610e+11</td>\n",
       "      <td>1.487416</td>\n",
       "      <td>0.050000</td>\n",
       "    </tr>\n",
       "    <tr>\n",
       "      <th>25%</th>\n",
       "      <td>2006-11-05 06:00:00</td>\n",
       "      <td>2.690000</td>\n",
       "      <td>2.776000</td>\n",
       "      <td>6.943610e+11</td>\n",
       "      <td>1.487416</td>\n",
       "      <td>0.140000</td>\n",
       "    </tr>\n",
       "    <tr>\n",
       "      <th>50%</th>\n",
       "      <td>2012-12-22 12:00:00</td>\n",
       "      <td>3.460000</td>\n",
       "      <td>3.784500</td>\n",
       "      <td>7.616519e+11</td>\n",
       "      <td>4.029406</td>\n",
       "      <td>1.030000</td>\n",
       "    </tr>\n",
       "    <tr>\n",
       "      <th>75%</th>\n",
       "      <td>2019-01-07 06:00:00</td>\n",
       "      <td>4.910000</td>\n",
       "      <td>5.596500</td>\n",
       "      <td>8.289428e+11</td>\n",
       "      <td>6.571396</td>\n",
       "      <td>2.790000</td>\n",
       "    </tr>\n",
       "    <tr>\n",
       "      <th>max</th>\n",
       "      <td>2025-02-19 00:00:00</td>\n",
       "      <td>23.860000</td>\n",
       "      <td>15.378000</td>\n",
       "      <td>8.289428e+11</td>\n",
       "      <td>6.571396</td>\n",
       "      <td>6.520000</td>\n",
       "    </tr>\n",
       "    <tr>\n",
       "      <th>std</th>\n",
       "      <td>NaN</td>\n",
       "      <td>2.312750</td>\n",
       "      <td>2.240940</td>\n",
       "      <td>7.770085e+10</td>\n",
       "      <td>2.935238</td>\n",
       "      <td>1.938901</td>\n",
       "    </tr>\n",
       "  </tbody>\n",
       "</table>\n",
       "</div>"
      ],
      "text/plain": [
       "                                Date    Price_EIA  Price_Yahoo           GDP  \\\n",
       "count                           6180  5002.000000  6112.000000  4.000000e+00   \n",
       "mean   2012-12-08 09:24:34.951456256     4.215598     4.428022  7.616519e+11   \n",
       "min              2000-08-30 00:00:00     1.210000     1.482000  6.943610e+11   \n",
       "25%              2006-11-05 06:00:00     2.690000     2.776000  6.943610e+11   \n",
       "50%              2012-12-22 12:00:00     3.460000     3.784500  7.616519e+11   \n",
       "75%              2019-01-07 06:00:00     4.910000     5.596500  8.289428e+11   \n",
       "max              2025-02-19 00:00:00    23.860000    15.378000  8.289428e+11   \n",
       "std                              NaN     2.312750     2.240940  7.770085e+10   \n",
       "\n",
       "       Inflation  Interest Rate  \n",
       "count   4.000000     193.000000  \n",
       "mean    4.029406       1.791606  \n",
       "min     1.487416       0.050000  \n",
       "25%     1.487416       0.140000  \n",
       "50%     4.029406       1.030000  \n",
       "75%     6.571396       2.790000  \n",
       "max     6.571396       6.520000  \n",
       "std     2.935238       1.938901  "
      ]
     },
     "execution_count": 5,
     "metadata": {},
     "output_type": "execute_result"
    }
   ],
   "source": [
    "df.describe()"
   ]
  },
  {
   "cell_type": "code",
   "execution_count": 6,
   "metadata": {},
   "outputs": [
    {
     "data": {
      "text/plain": [
       "Date                 0\n",
       "Price_EIA         1178\n",
       "Price_Yahoo         68\n",
       "GDP               6176\n",
       "Inflation         6176\n",
       "realtime_start    5987\n",
       "realtime_end      5987\n",
       "Interest Rate     5987\n",
       "dtype: int64"
      ]
     },
     "execution_count": 6,
     "metadata": {},
     "output_type": "execute_result"
    }
   ],
   "source": [
    "df.isna().sum()"
   ]
  },
  {
   "cell_type": "code",
   "execution_count": 7,
   "metadata": {},
   "outputs": [
    {
     "data": {
      "text/plain": [
       "np.int64(0)"
      ]
     },
     "execution_count": 7,
     "metadata": {},
     "output_type": "execute_result"
    }
   ],
   "source": [
    "df.duplicated().sum()"
   ]
  },
  {
   "cell_type": "code",
   "execution_count": 5,
   "metadata": {},
   "outputs": [],
   "source": [
    "df = df.sort_values(\"Date\").reset_index(drop=True)"
   ]
  },
  {
   "cell_type": "code",
   "execution_count": 18,
   "metadata": {},
   "outputs": [],
   "source": [
    "df.to_csv(\"../data/natural_gas_cleaned.csv\", index=False)"
   ]
  }
 ],
 "metadata": {
  "kernelspec": {
   "display_name": ".env",
   "language": "python",
   "name": "python3"
  },
  "language_info": {
   "codemirror_mode": {
    "name": "ipython",
    "version": 3
   },
   "file_extension": ".py",
   "mimetype": "text/x-python",
   "name": "python",
   "nbconvert_exporter": "python",
   "pygments_lexer": "ipython3",
   "version": "3.12.7"
  }
 },
 "nbformat": 4,
 "nbformat_minor": 2
}
