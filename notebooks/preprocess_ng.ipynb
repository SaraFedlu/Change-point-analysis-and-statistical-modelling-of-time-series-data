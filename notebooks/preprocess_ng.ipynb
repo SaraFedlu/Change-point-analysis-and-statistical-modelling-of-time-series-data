{
 "cells": [
  {
   "cell_type": "code",
   "execution_count": 1,
   "metadata": {},
   "outputs": [],
   "source": [
    "import pandas as pd"
   ]
  },
  {
   "cell_type": "code",
   "execution_count": 11,
   "metadata": {},
   "outputs": [],
   "source": [
    "df = pd.read_csv(\"../data/natural_gas_data.csv\", parse_dates=[\"Date\"])"
   ]
  },
  {
   "cell_type": "code",
   "execution_count": 17,
   "metadata": {},
   "outputs": [],
   "source": [
    "df = df.sort_values(by=\"Date\")"
   ]
  },
  {
   "cell_type": "code",
   "execution_count": 12,
   "metadata": {},
   "outputs": [
    {
     "data": {
      "text/html": [
       "<div>\n",
       "<style scoped>\n",
       "    .dataframe tbody tr th:only-of-type {\n",
       "        vertical-align: middle;\n",
       "    }\n",
       "\n",
       "    .dataframe tbody tr th {\n",
       "        vertical-align: top;\n",
       "    }\n",
       "\n",
       "    .dataframe thead th {\n",
       "        text-align: right;\n",
       "    }\n",
       "</style>\n",
       "<table border=\"1\" class=\"dataframe\">\n",
       "  <thead>\n",
       "    <tr style=\"text-align: right;\">\n",
       "      <th></th>\n",
       "      <th>Date</th>\n",
       "      <th>Price_EIA</th>\n",
       "      <th>Price_Yahoo</th>\n",
       "      <th>GDP</th>\n",
       "      <th>Inflation</th>\n",
       "      <th>Interest Rate</th>\n",
       "    </tr>\n",
       "  </thead>\n",
       "  <tbody>\n",
       "    <tr>\n",
       "      <th>0</th>\n",
       "      <td>2000-08-30</td>\n",
       "      <td>NaN</td>\n",
       "      <td>4.805</td>\n",
       "      <td>2.146709e+11</td>\n",
       "      <td>5.56613</td>\n",
       "      <td>6.50</td>\n",
       "    </tr>\n",
       "    <tr>\n",
       "      <th>1</th>\n",
       "      <td>2000-08-31</td>\n",
       "      <td>NaN</td>\n",
       "      <td>4.780</td>\n",
       "      <td>2.146709e+11</td>\n",
       "      <td>5.56613</td>\n",
       "      <td>6.50</td>\n",
       "    </tr>\n",
       "    <tr>\n",
       "      <th>2</th>\n",
       "      <td>2000-09-01</td>\n",
       "      <td>NaN</td>\n",
       "      <td>4.835</td>\n",
       "      <td>2.146709e+11</td>\n",
       "      <td>5.56613</td>\n",
       "      <td>6.52</td>\n",
       "    </tr>\n",
       "    <tr>\n",
       "      <th>3</th>\n",
       "      <td>2000-09-05</td>\n",
       "      <td>NaN</td>\n",
       "      <td>4.960</td>\n",
       "      <td>2.146709e+11</td>\n",
       "      <td>5.56613</td>\n",
       "      <td>6.52</td>\n",
       "    </tr>\n",
       "    <tr>\n",
       "      <th>4</th>\n",
       "      <td>2000-09-06</td>\n",
       "      <td>NaN</td>\n",
       "      <td>5.065</td>\n",
       "      <td>2.146709e+11</td>\n",
       "      <td>5.56613</td>\n",
       "      <td>6.52</td>\n",
       "    </tr>\n",
       "  </tbody>\n",
       "</table>\n",
       "</div>"
      ],
      "text/plain": [
       "        Date  Price_EIA  Price_Yahoo           GDP  Inflation  Interest Rate\n",
       "0 2000-08-30        NaN        4.805  2.146709e+11    5.56613           6.50\n",
       "1 2000-08-31        NaN        4.780  2.146709e+11    5.56613           6.50\n",
       "2 2000-09-01        NaN        4.835  2.146709e+11    5.56613           6.52\n",
       "3 2000-09-05        NaN        4.960  2.146709e+11    5.56613           6.52\n",
       "4 2000-09-06        NaN        5.065  2.146709e+11    5.56613           6.52"
      ]
     },
     "execution_count": 12,
     "metadata": {},
     "output_type": "execute_result"
    }
   ],
   "source": [
    "df.head()"
   ]
  },
  {
   "cell_type": "code",
   "execution_count": 15,
   "metadata": {},
   "outputs": [
    {
     "data": {
      "text/plain": [
       "Date                0\n",
       "Price_EIA        1178\n",
       "Price_Yahoo        65\n",
       "GDP               536\n",
       "Inflation         536\n",
       "Interest Rate      33\n",
       "dtype: int64"
      ]
     },
     "execution_count": 15,
     "metadata": {},
     "output_type": "execute_result"
    }
   ],
   "source": [
    "df.isna().sum()"
   ]
  },
  {
   "cell_type": "code",
   "execution_count": 18,
   "metadata": {},
   "outputs": [
    {
     "name": "stderr",
     "output_type": "stream",
     "text": [
      "/tmp/ipykernel_18060/3564868844.py:2: FutureWarning: Series.fillna with 'method' is deprecated and will raise in a future version. Use obj.ffill() or obj.bfill() instead.\n",
      "  df[\"Price_EIA\"] = df[\"Price_EIA\"].fillna(method=\"ffill\").fillna(method=\"bfill\")\n",
      "/tmp/ipykernel_18060/3564868844.py:3: FutureWarning: Series.fillna with 'method' is deprecated and will raise in a future version. Use obj.ffill() or obj.bfill() instead.\n",
      "  df[\"Price_Yahoo\"] = df[\"Price_Yahoo\"].fillna(method=\"ffill\").fillna(method=\"bfill\")\n",
      "/tmp/ipykernel_18060/3564868844.py:6: FutureWarning: Series.fillna with 'method' is deprecated and will raise in a future version. Use obj.ffill() or obj.bfill() instead.\n",
      "  df[\"GDP\"] = df[\"GDP\"].fillna(method=\"ffill\").interpolate()\n",
      "/tmp/ipykernel_18060/3564868844.py:7: FutureWarning: Series.fillna with 'method' is deprecated and will raise in a future version. Use obj.ffill() or obj.bfill() instead.\n",
      "  df[\"Inflation\"] = df[\"Inflation\"].fillna(method=\"ffill\").interpolate()\n",
      "/tmp/ipykernel_18060/3564868844.py:8: FutureWarning: Series.fillna with 'method' is deprecated and will raise in a future version. Use obj.ffill() or obj.bfill() instead.\n",
      "  df[\"Interest Rate\"] = df[\"Interest Rate\"].fillna(method=\"ffill\").interpolate()\n"
     ]
    }
   ],
   "source": [
    "# Forward-fill and Backward-fill for Price Data\n",
    "df[\"Price_EIA\"] = df[\"Price_EIA\"].fillna(method=\"ffill\").fillna(method=\"bfill\")\n",
    "df[\"Price_Yahoo\"] = df[\"Price_Yahoo\"].fillna(method=\"ffill\").fillna(method=\"bfill\")\n",
    "\n",
    "# Forward-fill for GDP, Inflation, and Interest Rate\n",
    "df[\"GDP\"] = df[\"GDP\"].fillna(method=\"ffill\").interpolate()\n",
    "df[\"Inflation\"] = df[\"Inflation\"].fillna(method=\"ffill\").interpolate()\n",
    "df[\"Interest Rate\"] = df[\"Interest Rate\"].fillna(method=\"ffill\").interpolate()"
   ]
  },
  {
   "cell_type": "code",
   "execution_count": 19,
   "metadata": {},
   "outputs": [
    {
     "data": {
      "text/plain": [
       "Date             0\n",
       "Price_EIA        0\n",
       "Price_Yahoo      0\n",
       "GDP              0\n",
       "Inflation        0\n",
       "Interest Rate    0\n",
       "dtype: int64"
      ]
     },
     "execution_count": 19,
     "metadata": {},
     "output_type": "execute_result"
    }
   ],
   "source": [
    "df.isna().sum()"
   ]
  },
  {
   "cell_type": "code",
   "execution_count": 20,
   "metadata": {},
   "outputs": [
    {
     "name": "stdout",
     "output_type": "stream",
     "text": [
      "<class 'pandas.core.frame.DataFrame'>\n",
      "RangeIndex: 6177 entries, 0 to 6176\n",
      "Data columns (total 6 columns):\n",
      " #   Column         Non-Null Count  Dtype         \n",
      "---  ------         --------------  -----         \n",
      " 0   Date           6177 non-null   datetime64[ns]\n",
      " 1   Price_EIA      6177 non-null   float64       \n",
      " 2   Price_Yahoo    6177 non-null   float64       \n",
      " 3   GDP            6177 non-null   float64       \n",
      " 4   Inflation      6177 non-null   float64       \n",
      " 5   Interest Rate  6177 non-null   float64       \n",
      "dtypes: datetime64[ns](1), float64(5)\n",
      "memory usage: 289.7 KB\n"
     ]
    }
   ],
   "source": [
    "df.info()"
   ]
  },
  {
   "cell_type": "code",
   "execution_count": 21,
   "metadata": {},
   "outputs": [
    {
     "data": {
      "text/html": [
       "<div>\n",
       "<style scoped>\n",
       "    .dataframe tbody tr th:only-of-type {\n",
       "        vertical-align: middle;\n",
       "    }\n",
       "\n",
       "    .dataframe tbody tr th {\n",
       "        vertical-align: top;\n",
       "    }\n",
       "\n",
       "    .dataframe thead th {\n",
       "        text-align: right;\n",
       "    }\n",
       "</style>\n",
       "<table border=\"1\" class=\"dataframe\">\n",
       "  <thead>\n",
       "    <tr style=\"text-align: right;\">\n",
       "      <th></th>\n",
       "      <th>Date</th>\n",
       "      <th>Price_EIA</th>\n",
       "      <th>Price_Yahoo</th>\n",
       "      <th>GDP</th>\n",
       "      <th>Inflation</th>\n",
       "      <th>Interest Rate</th>\n",
       "    </tr>\n",
       "  </thead>\n",
       "  <tbody>\n",
       "    <tr>\n",
       "      <th>count</th>\n",
       "      <td>6177</td>\n",
       "      <td>6177.000000</td>\n",
       "      <td>6177.000000</td>\n",
       "      <td>6.177000e+03</td>\n",
       "      <td>6177.000000</td>\n",
       "      <td>6177.000000</td>\n",
       "    </tr>\n",
       "    <tr>\n",
       "      <th>mean</th>\n",
       "      <td>2012-12-07 20:22:15.794074624</td>\n",
       "      <td>4.771894</td>\n",
       "      <td>4.415832</td>\n",
       "      <td>8.216003e+11</td>\n",
       "      <td>5.476935</td>\n",
       "      <td>1.813532</td>\n",
       "    </tr>\n",
       "    <tr>\n",
       "      <th>min</th>\n",
       "      <td>2000-08-30 00:00:00</td>\n",
       "      <td>1.210000</td>\n",
       "      <td>1.482000</td>\n",
       "      <td>2.055254e+11</td>\n",
       "      <td>2.858878</td>\n",
       "      <td>0.050000</td>\n",
       "    </tr>\n",
       "    <tr>\n",
       "      <th>25%</th>\n",
       "      <td>2006-11-03 00:00:00</td>\n",
       "      <td>2.810000</td>\n",
       "      <td>2.776000</td>\n",
       "      <td>4.891902e+11</td>\n",
       "      <td>3.947770</td>\n",
       "      <td>0.140000</td>\n",
       "    </tr>\n",
       "    <tr>\n",
       "      <th>50%</th>\n",
       "      <td>2012-12-20 00:00:00</td>\n",
       "      <td>4.000000</td>\n",
       "      <td>3.760000</td>\n",
       "      <td>8.146636e+11</td>\n",
       "      <td>5.493339</td>\n",
       "      <td>1.150000</td>\n",
       "    </tr>\n",
       "    <tr>\n",
       "      <th>75%</th>\n",
       "      <td>2019-01-08 00:00:00</td>\n",
       "      <td>7.100000</td>\n",
       "      <td>5.577000</td>\n",
       "      <td>9.181025e+11</td>\n",
       "      <td>6.657032</td>\n",
       "      <td>3.000000</td>\n",
       "    </tr>\n",
       "    <tr>\n",
       "      <th>max</th>\n",
       "      <td>2025-02-19 00:00:00</td>\n",
       "      <td>23.860000</td>\n",
       "      <td>15.378000</td>\n",
       "      <td>1.895068e+12</td>\n",
       "      <td>10.509810</td>\n",
       "      <td>6.520000</td>\n",
       "    </tr>\n",
       "    <tr>\n",
       "      <th>std</th>\n",
       "      <td>NaN</td>\n",
       "      <td>2.400610</td>\n",
       "      <td>2.233058</td>\n",
       "      <td>4.713768e+11</td>\n",
       "      <td>1.898203</td>\n",
       "      <td>1.923819</td>\n",
       "    </tr>\n",
       "  </tbody>\n",
       "</table>\n",
       "</div>"
      ],
      "text/plain": [
       "                                Date    Price_EIA  Price_Yahoo           GDP  \\\n",
       "count                           6177  6177.000000  6177.000000  6.177000e+03   \n",
       "mean   2012-12-07 20:22:15.794074624     4.771894     4.415832  8.216003e+11   \n",
       "min              2000-08-30 00:00:00     1.210000     1.482000  2.055254e+11   \n",
       "25%              2006-11-03 00:00:00     2.810000     2.776000  4.891902e+11   \n",
       "50%              2012-12-20 00:00:00     4.000000     3.760000  8.146636e+11   \n",
       "75%              2019-01-08 00:00:00     7.100000     5.577000  9.181025e+11   \n",
       "max              2025-02-19 00:00:00    23.860000    15.378000  1.895068e+12   \n",
       "std                              NaN     2.400610     2.233058  4.713768e+11   \n",
       "\n",
       "         Inflation  Interest Rate  \n",
       "count  6177.000000    6177.000000  \n",
       "mean      5.476935       1.813532  \n",
       "min       2.858878       0.050000  \n",
       "25%       3.947770       0.140000  \n",
       "50%       5.493339       1.150000  \n",
       "75%       6.657032       3.000000  \n",
       "max      10.509810       6.520000  \n",
       "std       1.898203       1.923819  "
      ]
     },
     "execution_count": 21,
     "metadata": {},
     "output_type": "execute_result"
    }
   ],
   "source": [
    "df.describe()"
   ]
  },
  {
   "cell_type": "code",
   "execution_count": 16,
   "metadata": {},
   "outputs": [
    {
     "data": {
      "text/plain": [
       "np.int64(0)"
      ]
     },
     "execution_count": 16,
     "metadata": {},
     "output_type": "execute_result"
    }
   ],
   "source": [
    "df.duplicated().sum()"
   ]
  },
  {
   "cell_type": "code",
   "execution_count": 22,
   "metadata": {},
   "outputs": [],
   "source": [
    "df = df.sort_values(\"Date\").reset_index(drop=True)"
   ]
  },
  {
   "cell_type": "code",
   "execution_count": 23,
   "metadata": {},
   "outputs": [],
   "source": [
    "df.to_csv(\"../data/natural_gas_cleaned.csv\", index=False)"
   ]
  }
 ],
 "metadata": {
  "kernelspec": {
   "display_name": ".env",
   "language": "python",
   "name": "python3"
  },
  "language_info": {
   "codemirror_mode": {
    "name": "ipython",
    "version": 3
   },
   "file_extension": ".py",
   "mimetype": "text/x-python",
   "name": "python",
   "nbconvert_exporter": "python",
   "pygments_lexer": "ipython3",
   "version": "3.12.7"
  }
 },
 "nbformat": 4,
 "nbformat_minor": 2
}
